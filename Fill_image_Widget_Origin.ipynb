{
 "cells": [
  {
   "cell_type": "code",
   "execution_count": 1,
   "metadata": {},
   "outputs": [
    {
     "name": "stdout",
     "output_type": "stream",
     "text": [
      "False\n",
      "True\n"
     ]
    }
   ],
   "source": [
    "# https://freeprog.tistory.com/329\n",
    "\n",
    "import sys\n",
    "import IPython\n",
    "import imutils\n",
    "import cv2\n",
    "from PyQt5.QtGui import *\n",
    "from PyQt5.QtWidgets import *\n",
    "\n",
    "class MyMain(QMainWindow):\n",
    "    def __init__(self):\n",
    "        super().__init__()\n",
    "        self.setWindowTitle(\"Title\")\n",
    "        self.setGeometry(900,500,w,h)\n",
    "        \n",
    "        # widget으로 배경이미지\n",
    "        self.central_widget1 = QWidget()               \n",
    "        self.setCentralWidget(self.central_widget1)    \n",
    "        lay = QVBoxLayout(self.central_widget1)\n",
    "\n",
    "        label = QLabel(self)\n",
    "        pixmap = QPixmap('./images/example_04.bmp')\n",
    "        label.setPixmap(pixmap)\n",
    "        #self.resize(pixmap.width(), pixmap.height())\n",
    "        lay.addWidget(label)\n",
    "        \n",
    "        #statusbar 만들기 #위젯 커서 안보임\n",
    "        self.statusbar = self.statusBar()\n",
    "        \n",
    "        #마우스 위치 잡기\n",
    "        print(self.hasMouseTracking())\n",
    "        self.setMouseTracking(True) # True면, mouse 안눌러도, mouse 위치 추적 # 위젯에 가렸기 때문에 그래도 눌러야됨\n",
    "        print(self.hasMouseTracking())\n",
    "        \n",
    "        \n",
    "        self.show()\n",
    "        \n",
    "    def mouseMoveEvent(self, event):\n",
    "        txt = \"Mouse 위치 ; x={0},y={1}, global={2},{3}\".format(event.x(), event.y(), event.globalX(),event.globalY())\n",
    "        self.statusbar.showMessage(txt)\n",
    "        print(event.globalX())\n",
    "        \n",
    "        \n",
    "\n",
    "fname= './images/example_04.bmp'\n",
    "# load the image, convert it to grayscale, and blur it slightly\n",
    "image =cv2.imread(fname)\n",
    "cv2.imshow('image',image)\n",
    "h, w = image.shape[:2]\n",
    "cv2.waitKey(0)\n",
    "\n",
    "\n",
    "if __name__==\"__main__\":\n",
    "    app = QApplication(sys.argv)\n",
    "    ex = MyMain()\n",
    "    app.exec_()\n",
    "    \n",
    "cv2.waitKey(0)\n",
    "cv2.destroyAllWindows() \n",
    "\n",
    "\n",
    "app = IPython.Application.instance()\n",
    "app.kernel.do_shutdown(True)\n",
    "app.kernel.start()\n"
   ]
  }
 ],
 "metadata": {
  "kernelspec": {
   "display_name": "Python 3",
   "language": "python",
   "name": "python3"
  },
  "language_info": {
   "codemirror_mode": {
    "name": "ipython",
    "version": 3
   },
   "file_extension": ".py",
   "mimetype": "text/x-python",
   "name": "python",
   "nbconvert_exporter": "python",
   "pygments_lexer": "ipython3",
   "version": "3.7.3"
  }
 },
 "nbformat": 4,
 "nbformat_minor": 2
}
