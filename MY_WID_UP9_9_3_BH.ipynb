{
 "cells": [
  {
   "cell_type": "code",
   "execution_count": 50,
   "metadata": {},
   "outputs": [
    {
     "name": "stdout",
     "output_type": "stream",
     "text": [
      "Current folder : C:\\Users\\Hojin\\Desktop\\부식\\전수조사 모음\\전수조사 정리\n",
      "case개수:  167  specimen개수:  167\n",
      "58\n",
      "C:\\Users\\Hojin\\Desktop\\부식\\전수조사 모음\\전수조사 정리\\Surfactant(X)_\\30ml_\\SP_\\LiOH(0.06)_\\INHIBIT(300)_\\TEMP(150)_\\HOUR(1000)_ \n",
      " C:\\Users\\Hojin\\Desktop\\부식\\전수조사 모음\\전수조사 정리\\Surfactant(X)_\\30ml_\\SP_\\LiOH(0.06)_\\INHIBIT(300)_\\TEMP(150)_\\HOUR(500)_\n",
      "58\n",
      "5 , 2\n",
      "['C:\\\\Users\\\\Hojin\\\\Desktop\\\\부식\\\\전수조사 모음\\\\전수조사 정리\\\\Surfactant(X)_\\\\30ml_\\\\SP_\\\\LiOH(0.06)_\\\\INHIBIT(300)_\\\\TEMP(150)_\\\\HOUR(1000)_', ['7005', 'C:\\\\Users\\\\Hojin\\\\Desktop\\\\부식\\\\전수조사 모음\\\\전수조사 정리\\\\Surfactant(X)_\\\\30ml_\\\\SP_\\\\LiOH(0.06)_\\\\INHIBIT(300)_\\\\TEMP(150)_\\\\HOUR(1000)_\\\\s(7_05)\\\\s(7_05)_xlsx_Pitdepth_data\\\\s(7_05)pit_depth_result.xlsx'], ['7006', 'C:\\\\Users\\\\Hojin\\\\Desktop\\\\부식\\\\전수조사 모음\\\\전수조사 정리\\\\Surfactant(X)_\\\\30ml_\\\\SP_\\\\LiOH(0.06)_\\\\INHIBIT(300)_\\\\TEMP(150)_\\\\HOUR(1000)_\\\\s(7_06)\\\\s(7_06)_xlsx_Pitdepth_data\\\\s(7_06)pit_depth_result.xlsx'], ['7007', 'C:\\\\Users\\\\Hojin\\\\Desktop\\\\부식\\\\전수조사 모음\\\\전수조사 정리\\\\Surfactant(X)_\\\\30ml_\\\\SP_\\\\LiOH(0.06)_\\\\INHIBIT(300)_\\\\TEMP(150)_\\\\HOUR(1000)_\\\\s(7_07)\\\\s(7_07)_xlsx_Pitdepth_data\\\\s(7_07)pit_depth_result.xlsx'], ['7008', 'C:\\\\Users\\\\Hojin\\\\Desktop\\\\부식\\\\전수조사 모음\\\\전수조사 정리\\\\Surfactant(X)_\\\\30ml_\\\\SP_\\\\LiOH(0.06)_\\\\INHIBIT(300)_\\\\TEMP(150)_\\\\HOUR(1000)_\\\\s(7_08)\\\\s(7_08)_xlsx_Pitdepth_data\\\\s(7_08)pit_depth_result.xlsx']]\n"
     ]
    }
   ],
   "source": [
    "#9_9_2_BH이전에는 한 파일의 값을 불러오기 함. 이후에는 room 주소, room 번호를 부여함.\n",
    "#9_9_3_BH버전에서는 cases_ [specimen names, specimens] 의 형태로 리스트화.\n",
    "import os\n",
    "import subprocess\n",
    "from parse import *\n",
    "import xlwings as xw\n",
    "\n",
    "# file = r\"C:\\Users\\Hojin\\Desktop\\부식\\전수조사 모음\\전수조사 정리\\Surfactant(X)_\\30ml_\\NT_\\LiOH(0.06)_\\INHIBIT(509)_\\TEMP(200)_\\HOUR(2500)_\\s(9_13)\\s(9_13)_xlsx_Pitdepth_data\\s(9_13)\\s(9_13)_xlsx_Pitdepth_data\\s(9_13)pit_depth_result.xlsx\"\n",
    "# dir,filename = os.path.split(file)\n",
    "# print(\"1 \",dir, \"에 있는 \", filename)\n",
    "# os.chdir(dir)\n",
    "# folder = os.getcwd()\n",
    "# fo1 =os.path.basename(dir)\n",
    "# fo2=os.path.basename(fo1)\n",
    "# print ('Current folder : %s' % folder)\n",
    "# print( 'specimen: %s' % fo2)\n",
    "# rn=parse(\"s({}_{})pit_depth_result.xlsx\",filename)\n",
    "#                         #print(\"8?=\",rn.fixed[0],\"22?=?\",rn.fixed[1])\n",
    "                      \n",
    "# rn1=rn.fixed[0]+\"0\"+rn.fixed[1]\n",
    "# print(rn1)\n",
    "# if os.path.isfile(dir + os.sep+\"s(9_13)pit_depth_result.xlsx\"):\n",
    "#     wb = xw.Book(dir + os.sep+ \"s(9_13)pit_depth_result.xlsx\")\n",
    "# else:\n",
    "#     wb = xw.Book()\n",
    "    \n",
    "# sht1 = wb.sheets[0]\n",
    "# #엑셀 그림자에 데이터 저장.\n",
    "# exshadow0 = []\n",
    "# exshadow1 = []\n",
    "# exshadow2 = []\n",
    "# rownum = sht1.range('A2').end('down').last_cell.row\n",
    "# print('rownum',rownum)\n",
    "# for i in range(rownum-2):\n",
    "#     print(sht1.range('A'+str(i+3)).value,sht1.range('B'+str(i+3)).value,sht1.range('C'+str(i+3)).value)\n",
    "#     exshadow0.append(sht1.range('A'+str(i+3)).value)\n",
    "#     exshadow0.append(sht1.range('B'+str(i+3)).value)\n",
    "#     exshadow0.append(sht1.range('C'+str(i+3)).value)\n",
    "\n",
    "# print(len(exshadow))\n",
    "\n",
    "dir = \"C:/Users/Hojin/Desktop/부식/전수조사 모음/전수조사 정리\"\n",
    "os.chdir(dir)\n",
    "folder = os.getcwd()\n",
    "print ('Current folder : %s' % folder)\n",
    "search = '.xlsx'\n",
    "\n",
    "cases=[]\n",
    "specimen_n=[]\n",
    "specimen=[]\n",
    "n=1\n",
    "for path, dirs, files in os.walk(folder):\n",
    "    #print('\\nFolder: ', path)\n",
    "    if files:\n",
    "        for filename in files:\n",
    "            if search in os.path.join(path, filename):\n",
    "\n",
    "                if \"pit_depth_result\" in os.path.join(path, filename):\n",
    "                    #print (\"filename: \", filename)\n",
    "                    \n",
    " #                   print(\"path:\",path)\n",
    "                    base2, basen= os.path.split(path)\n",
    "                    base1,base2n=os.path.split(base2)\n",
    "   #                 print(\"house address:\",base1)\n",
    "                    \n",
    "#                     wb2 = xw.Book(os.path.join(path, filename))\n",
    "#                     sht2=wb2.sheets[0]\n",
    "\n",
    "#                     wb2.save(os.path.join(path, filename))\n",
    "#                     #wait()\n",
    "#                     wb2.close()\n",
    "\n",
    "                    rn=parse(\"s({}_{})pit_depth_result.xlsx\",filename)\n",
    "                    #print(\"8?=\",rn.fixed[0],\"22?=?\",rn.fixed[1])\n",
    "\n",
    "                    rn1=rn.fixed[0]+\"0\"+rn.fixed[1]\n",
    "                    #print (' Files: ',rn1,  os.path.join(path, filename))\n",
    "  #                  print ('room number: ',rn1)\n",
    "                    \n",
    "                    cases.append(base1)\n",
    "                    specimen_n.append(rn1)\n",
    "                    specimen.append(os.path.join(path, filename))\n",
    "                    #print( os.path.splitext(filename)[1])\n",
    "                        \n",
    "print(\"case개수: \",len(cases),\" specimen개수: \",len(specimen_n))\n",
    "remove_dup=list(set(cases))\n",
    "print(len(remove_dup))\n",
    "print(remove_dup[0],\"\\n\",remove_dup[1])\n",
    "asd=[]\n",
    "n=0\n",
    "for search in remove_dup:\n",
    "    asd.append([search])\n",
    "    for i in range(len(cases)):\n",
    "        if search == cases[i-1]:\n",
    "            asd[n].append([specimen_n[i-1],specimen[i-1]])\n",
    "    n+=1\n",
    "print(len(asd))#asd꼴은([cases,[specimen_n,specimen]], ...)\n",
    "print(len(asd[0]), \",\",len(asd[10]))\n",
    "print(asd[0])"
   ]
  },
  {
   "cell_type": "code",
   "execution_count": 41,
   "metadata": {},
   "outputs": [
    {
     "name": "stdout",
     "output_type": "stream",
     "text": [
      "[]\n"
     ]
    }
   ],
   "source": [
    "a= [[1,2],[]]\n",
    "a.append([3])\n",
    "a[0].append(7)\n",
    "\n",
    "print(a[1])"
   ]
  }
 ],
 "metadata": {
  "kernelspec": {
   "display_name": "Python 3",
   "language": "python",
   "name": "python3"
  },
  "language_info": {
   "codemirror_mode": {
    "name": "ipython",
    "version": 3
   },
   "file_extension": ".py",
   "mimetype": "text/x-python",
   "name": "python",
   "nbconvert_exporter": "python",
   "pygments_lexer": "ipython3",
   "version": "3.7.3"
  }
 },
 "nbformat": 4,
 "nbformat_minor": 2
}
