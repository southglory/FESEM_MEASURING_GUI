{
 "cells": [
  {
   "cell_type": "code",
   "execution_count": 97,
   "metadata": {},
   "outputs": [
    {
     "name": "stdout",
     "output_type": "stream",
     "text": [
      "새로운 Car 인스턴스가 생성되었습니다.\n",
      "color : Red ,year: 2017\n",
      "새로운 Car 인스턴스가 생성되었습니다.\n",
      "color : Blue ,year: 2019\n",
      "color : Blue ,year: 2019\n",
      "('Blue', 2019)\n"
     ]
    }
   ],
   "source": [
    "\n",
    "\"\"\"init함수의 중요성\n",
    "\n",
    "class Car:\n",
    "    honk = \"빵빵\"\n",
    "    \n",
    "    def set_info(self, color, year):\n",
    "        self.color = color\n",
    "        self.year = year\n",
    "\n",
    "    def get_info(self):\n",
    "        print(\"color : %s ,year: %d\" % (self.color, self.year))\n",
    "\n",
    "my_car = Car()\n",
    "my_car.set_info(\"Red\", 2017)\n",
    "my_car.get_info()\n",
    "#=> color:Red, year:2017\n",
    "\n",
    "new_car = Car()\n",
    "new_car.get_info()\n",
    "# AttributeError: Car instance has no attribute 'color'\n",
    "\n",
    "\"\"\"\n",
    "\n",
    "class Car:\n",
    "    honk = \"빵빵\"\n",
    "    \n",
    "    def __init__(self, color, year):\n",
    "        self.color = color\n",
    "        self.year = year\n",
    "        print(\"새로운 Car 인스턴스가 생성되었습니다.\")\n",
    "\n",
    "    def get_info(self):\n",
    "        print(\"color : %s ,year: %d\" % (self.color, self.year))\n",
    "        #\n",
    "        color = self.color\n",
    "        year = self.year\n",
    "        return color, year\n",
    "        #\n",
    "my_car = Car(\"Red\", 2017)\n",
    "# 새로운 Car 인스턴스가 생성되었습니다.\n",
    "\n",
    "my_car.get_info()\n",
    "# color : Red, year: 2017\n",
    "\n",
    "new_car = Car(\"Blue\", 2019)\n",
    "new_car.get_info()\n",
    "#\n",
    "a= new_car.get_info()\n",
    "print(a)"
   ]
  }
 ],
 "metadata": {
  "kernelspec": {
   "display_name": "Python 3",
   "language": "python",
   "name": "python3"
  },
  "language_info": {
   "codemirror_mode": {
    "name": "ipython",
    "version": 3
   },
   "file_extension": ".py",
   "mimetype": "text/x-python",
   "name": "python",
   "nbconvert_exporter": "python",
   "pygments_lexer": "ipython3",
   "version": "3.7.3"
  }
 },
 "nbformat": 4,
 "nbformat_minor": 2
}
