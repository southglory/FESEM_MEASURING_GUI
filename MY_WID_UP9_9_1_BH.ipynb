{
 "cells": [
  {
   "cell_type": "code",
   "execution_count": 9,
   "metadata": {},
   "outputs": [
    {
     "name": "stdout",
     "output_type": "stream",
     "text": [
      "1  C:\\Users\\Hojin\\Desktop\\부식\\전수조사 모음\\전수조사 정리\\Surfactant(X)_\\30ml_\\NT_\\LiOH(0.06)_\\INHIBIT(509)_\\TEMP(200)_\\HOUR(2500)_\\s(9_13)\\s(9_13)_xlsx_Pitdepth_data\\s(9_13)\\s(9_13)_xlsx_Pitdepth_data 에 있는  s(9_13)pit_depth_result.xlsx\n",
      "Current folder : C:\\Users\\Hojin\\Desktop\\부식\\전수조사 모음\\전수조사 정리\\Surfactant(X)_\\30ml_\\NT_\\LiOH(0.06)_\\INHIBIT(509)_\\TEMP(200)_\\HOUR(2500)_\\s(9_13)\\s(9_13)_xlsx_Pitdepth_data\\s(9_13)\\s(9_13)_xlsx_Pitdepth_data\n",
      "specimen: s(9_13)_xlsx_Pitdepth_data\n",
      "9013\n",
      "rownum 7\n",
      "9-13 down_15kV PC6 WD10_84.bmp\n",
      "9-13 down_15kV PC6 WD10_85.bmp\n",
      "9-13 down_15kV PC6 WD10_86.bmp\n",
      "9-13 up_15kV PC6 WD10_80.bmp\n",
      "9-13 up_15kV PC6 WD10_81.bmp\n",
      "5\n"
     ]
    }
   ],
   "source": [
    "import os\n",
    "import subprocess\n",
    "from parse import *\n",
    "import xlwings as xw\n",
    "\n",
    "file = r\"C:\\Users\\Hojin\\Desktop\\부식\\전수조사 모음\\전수조사 정리\\Surfactant(X)_\\30ml_\\NT_\\LiOH(0.06)_\\INHIBIT(509)_\\TEMP(200)_\\HOUR(2500)_\\s(9_13)\\s(9_13)_xlsx_Pitdepth_data\\s(9_13)\\s(9_13)_xlsx_Pitdepth_data\\s(9_13)pit_depth_result.xlsx\"\n",
    "dir,filename = os.path.split(file)\n",
    "print(\"1 \",dir, \"에 있는 \", filename)\n",
    "os.chdir(dir)\n",
    "folder = os.getcwd()\n",
    "fo1 =os.path.basename(dir)\n",
    "fo2=os.path.basename(fo1)\n",
    "print ('Current folder : %s' % folder)\n",
    "print( 'specimen: %s' % fo2)\n",
    "rn=parse(\"s({}_{})pit_depth_result.xlsx\",filename)\n",
    "                        #print(\"8?=\",rn.fixed[0],\"22?=?\",rn.fixed[1])\n",
    "                      \n",
    "rn1=rn.fixed[0]+\"0\"+rn.fixed[1]\n",
    "print(rn1)\n",
    "if os.path.isfile(dir + os.sep+\"s(9_13)pit_depth_result.xlsx\"):\n",
    "    wb = xw.Book(dir + os.sep+ \"s(9_13)pit_depth_result.xlsx\")\n",
    "else:\n",
    "    wb = xw.Book()\n",
    "    \n",
    "sht1 = wb.sheets[0]\n",
    "#엑셀 그림자에 데이터 저장.\n",
    "exshadow0 = []\n",
    "exshadow1 = []\n",
    "exshadow2 = []\n",
    "rownum = sht1.range('A2').end('down').last_cell.row\n",
    "print('rownum',rownum)\n",
    "for i in range(rownum-2):\n",
    "    print(sht1.range('A'+str(i+3)).value)\n",
    "    exshadow0.append(sht1.range('A'+str(i+3)).value)\n",
    "    exshadow0.append(sht1.range('B'+str(i+3)).value)\n",
    "    exshadow0.append(sht1.range('C'+str(i+3)).value)\n",
    "\n",
    "print(len(exshadow))"
   ]
  }
 ],
 "metadata": {
  "kernelspec": {
   "display_name": "Python 3",
   "language": "python",
   "name": "python3"
  },
  "language_info": {
   "codemirror_mode": {
    "name": "ipython",
    "version": 3
   },
   "file_extension": ".py",
   "mimetype": "text/x-python",
   "name": "python",
   "nbconvert_exporter": "python",
   "pygments_lexer": "ipython3",
   "version": "3.7.3"
  }
 },
 "nbformat": 4,
 "nbformat_minor": 2
}
