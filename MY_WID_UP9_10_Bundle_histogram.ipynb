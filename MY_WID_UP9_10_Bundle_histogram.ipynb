{
 "cells": [
  {
   "cell_type": "code",
   "execution_count": 1,
   "metadata": {},
   "outputs": [
    {
     "ename": "SyntaxError",
     "evalue": "(unicode error) 'unicodeescape' codec can't decode bytes in position 2-3: truncated \\UXXXXXXXX escape (<ipython-input-1-7748c8a7b51f>, line 15)",
     "output_type": "error",
     "traceback": [
      "\u001b[1;36m  File \u001b[1;32m\"<ipython-input-1-7748c8a7b51f>\"\u001b[1;36m, line \u001b[1;32m15\u001b[0m\n\u001b[1;33m    dir = \"C:\\Users\\Hojin\\Desktop\\부식\\전수조사 모음\\전수조사 정리\\Surfactant(X)_\\30ml_\\NT_\\LiOH(0.06)_\\INHIBIT(509)_\\TEMP(200)_\\HOUR(2500)_\\s(9_13)\\s(9_13)_xlsx_Pitdepth_data\"\u001b[0m\n\u001b[1;37m         ^\u001b[0m\n\u001b[1;31mSyntaxError\u001b[0m\u001b[1;31m:\u001b[0m (unicode error) 'unicodeescape' codec can't decode bytes in position 2-3: truncated \\UXXXXXXXX escape\n"
     ]
    }
   ],
   "source": [
    "#이거슨 폴더의 하위폴더들에 위치한 파일의 절대참조들을 긁어모으기 위해 찾아낸 코드\n",
    "#MY_WID_UP9_10_Bundle_histogram 버전은 과도기.\n",
    "import os\n",
    "import subprocess\n",
    "from parse import *\n",
    "import xlwings as xw\n",
    "#import msvcrt as m\n",
    "#def wait():\n",
    "#    m.getch()\n",
    "current_directory = os.getcwd()\n",
    "print(current_directory)\n",
    "\n",
    "\n",
    "\n",
    "#folder = os.getcwd()\n",
    "dir = \"C:\\Users\\Hojin\\Desktop\\부식\\전수조사 모음\\전수조사 정리\\Surfactant(X)_\\30ml_\\NT_\\LiOH(0.06)_\\INHIBIT(509)_\\TEMP(200)_\\HOUR(2500)_\\s(9_13)\\s(9_13)_xlsx_Pitdepth_data\"\n",
    "base,foname = os.path.split(dir)\n",
    "        print(\"1 \",base, \"에 있는 \", foname)\n",
    "os.chdir(dir)\n",
    "folder = os.getcwd()\n",
    "foname =os.path.basename(dir)\n",
    "print ('Current folder : %s' % folder)\n",
    "\n",
    "\n",
    "if os.path.isfile(dir + os.sep+ \"testee.xlsx\"):\n",
    "    wb = xw.Book(dir + os.sep+ \"testee.xlsx\")\n",
    "else:\n",
    "    wb = xw.Book()\n",
    "sht1 = wb.sheets[0]\n",
    "\n",
    "#parse추가(텍스트조합) \n",
    "#rn=parse(\"s({}_{})\",foname)\n",
    "#print(\"8?=\",rn.fixed[0],\"22?=?\",rn.fixed[1])\n",
    "#rn1=rn.fixed[0]+\"0\"+rn.fixed[1]\n",
    "\n",
    "#엑셀 그림자에 데이터 저장.\n",
    "exshadow = []\n",
    "rownum = sht1.range('A1').end('down').last_cell.row\n",
    "print('rownum',rownum)\n",
    "for i in range(rownum-1):\n",
    "    print(sht1.range('A'+str(i+2)).value)\n",
    "    exshadow.append(sht1.range('A'+str(i+2)).value)\n",
    "\n",
    "print(len(exshadow))\n",
    "\n",
    "wb.save(dir + os.sep+ \"testee.xlsx\")\n",
    "wb.close()\n",
    "    \n",
    "    \n",
    "    \n",
    "    \n",
    "#exit(0)\n",
    "\n"
   ]
  }
 ],
 "metadata": {
  "kernelspec": {
   "display_name": "Python 3",
   "language": "python",
   "name": "python3"
  },
  "language_info": {
   "codemirror_mode": {
    "name": "ipython",
    "version": 3
   },
   "file_extension": ".py",
   "mimetype": "text/x-python",
   "name": "python",
   "nbconvert_exporter": "python",
   "pygments_lexer": "ipython3",
   "version": "3.7.3"
  }
 },
 "nbformat": 4,
 "nbformat_minor": 2
}
